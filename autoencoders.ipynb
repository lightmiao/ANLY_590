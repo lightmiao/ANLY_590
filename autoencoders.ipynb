{
 "cells": [
  {
   "cell_type": "code",
   "execution_count": 2,
   "metadata": {
    "id": "1YwA2EdX0VdH"
   },
   "outputs": [],
   "source": [
    "import numpy as np\n",
    "import matplotlib.pyplot as plt\n",
    "import tensorflow as tf\n",
    "import tensorflow.keras as tfk\n",
    "import tensorflow_datasets as tfds\n",
    "\n",
    "tfkl = tfk.layers"
   ]
  },
  {
   "cell_type": "markdown",
   "metadata": {
    "id": "28GQwMhxEsYw"
   },
   "source": [
    "### MNIST data\n",
    "Here is some code to load the MNIST digit recognition dataet and associated metadata"
   ]
  },
  {
   "cell_type": "code",
   "execution_count": 3,
   "metadata": {
    "colab": {
     "base_uri": "https://localhost:8080/",
     "height": 656,
     "referenced_widgets": [
      "44fe5473bc604425a89d949b8b1fadca",
      "35b6da694ed74333b7ac16ef8928b9a6",
      "4566c85f8f8443acaa80591012be3a58",
      "d0a35b7f92744288a841cb1acc92031f",
      "ff8062801cd349138e84847e841ad017",
      "8b1429a6c67c4971a025459b59d4902a",
      "65ba0aac2b034021b9c4bfdc9c51670d",
      "3dbbdfa73cf84aac9fef3d22ee0de2a3"
     ]
    },
    "id": "23CAr5Fl03MF",
    "outputId": "bfc16ee9-e803-412c-efc8-d51f355094e6"
   },
   "outputs": [
    {
     "name": "stdout",
     "output_type": "stream",
     "text": [
      "Downloading and preparing dataset mnist/3.0.1 (download: Unknown size, generated: Unknown size, total: Unknown size) to C:\\Users\\Yi\\tensorflow_datasets\\mnist\\3.0.1...\n"
     ]
    },
    {
     "data": {
      "application/vnd.jupyter.widget-view+json": {
       "model_id": "ff45aee470cc470ea19a68de745cffd1",
       "version_major": 2,
       "version_minor": 0
      },
      "text/plain": [
       "HBox(children=(IntProgress(value=1, bar_style='info', description='Dl Completed...', max=1, style=ProgressStyl…"
      ]
     },
     "metadata": {},
     "output_type": "display_data"
    },
    {
     "data": {
      "application/vnd.jupyter.widget-view+json": {
       "model_id": "ce10f538c4244757ae87a567987193a7",
       "version_major": 2,
       "version_minor": 0
      },
      "text/plain": [
       "HBox(children=(IntProgress(value=1, bar_style='info', description='Dl Size...', max=1, style=ProgressStyle(des…"
      ]
     },
     "metadata": {},
     "output_type": "display_data"
    },
    {
     "data": {
      "application/vnd.jupyter.widget-view+json": {
       "model_id": "c43782dc192c44b6b080208583667337",
       "version_major": 2,
       "version_minor": 0
      },
      "text/plain": [
       "HBox(children=(IntProgress(value=1, bar_style='info', description='Extraction completed...', max=1, style=Prog…"
      ]
     },
     "metadata": {},
     "output_type": "display_data"
    },
    {
     "name": "stdout",
     "output_type": "stream",
     "text": [
      "\n",
      "\n",
      "\n",
      "\n",
      "\n",
      "\n"
     ]
    },
    {
     "data": {
      "application/vnd.jupyter.widget-view+json": {
       "model_id": "",
       "version_major": 2,
       "version_minor": 0
      },
      "text/plain": [
       "HBox(children=(IntProgress(value=1, bar_style='info', max=1), HTML(value='')))"
      ]
     },
     "metadata": {},
     "output_type": "display_data"
    },
    {
     "name": "stdout",
     "output_type": "stream",
     "text": [
      "Shuffling and writing examples to C:\\Users\\Yi\\tensorflow_datasets\\mnist\\3.0.1.incompleteB2O8LR\\mnist-train.tfrecord\n"
     ]
    },
    {
     "data": {
      "application/vnd.jupyter.widget-view+json": {
       "model_id": "cde81b175dd24c538440ba7220baea96",
       "version_major": 2,
       "version_minor": 0
      },
      "text/plain": [
       "HBox(children=(IntProgress(value=0, max=60000), HTML(value='')))"
      ]
     },
     "metadata": {},
     "output_type": "display_data"
    },
    {
     "name": "stdout",
     "output_type": "stream",
     "text": [
      "\r"
     ]
    },
    {
     "data": {
      "application/vnd.jupyter.widget-view+json": {
       "model_id": "",
       "version_major": 2,
       "version_minor": 0
      },
      "text/plain": [
       "HBox(children=(IntProgress(value=1, bar_style='info', max=1), HTML(value='')))"
      ]
     },
     "metadata": {},
     "output_type": "display_data"
    },
    {
     "name": "stdout",
     "output_type": "stream",
     "text": [
      "Shuffling and writing examples to C:\\Users\\Yi\\tensorflow_datasets\\mnist\\3.0.1.incompleteB2O8LR\\mnist-test.tfrecord\n"
     ]
    },
    {
     "data": {
      "application/vnd.jupyter.widget-view+json": {
       "model_id": "7205599581a448c7be46fe037b03cfd5",
       "version_major": 2,
       "version_minor": 0
      },
      "text/plain": [
       "HBox(children=(IntProgress(value=0, max=10000), HTML(value='')))"
      ]
     },
     "metadata": {},
     "output_type": "display_data"
    },
    {
     "name": "stdout",
     "output_type": "stream",
     "text": [
      "Dataset mnist downloaded and prepared to C:\\Users\\Yi\\tensorflow_datasets\\mnist\\3.0.1. Subsequent calls will reuse this data.\n",
      "tfds.core.DatasetInfo(\n",
      "    name='mnist',\n",
      "    version=3.0.1,\n",
      "    description='The MNIST database of handwritten digits.',\n",
      "    homepage='http://yann.lecun.com/exdb/mnist/',\n",
      "    features=FeaturesDict({\n",
      "        'image': Image(shape=(28, 28, 1), dtype=tf.uint8),\n",
      "        'label': ClassLabel(shape=(), dtype=tf.int64, num_classes=10),\n",
      "    }),\n",
      "    total_num_examples=70000,\n",
      "    splits={\n",
      "        'test': 10000,\n",
      "        'train': 60000,\n",
      "    },\n",
      "    supervised_keys=('image', 'label'),\n",
      "    citation=\"\"\"@article{lecun2010mnist,\n",
      "      title={MNIST handwritten digit database},\n",
      "      author={LeCun, Yann and Cortes, Corinna and Burges, CJ},\n",
      "      journal={ATT Labs [Online]. Available: http://yann.lecun.com/exdb/mnist},\n",
      "      volume={2},\n",
      "      year={2010}\n",
      "    }\"\"\",\n",
      "    redistribution_info=,\n",
      ")\n",
      "\n"
     ]
    }
   ],
   "source": [
    "data, info = tfds.load('mnist', with_info=True)\n",
    "print(info)"
   ]
  },
  {
   "cell_type": "markdown",
   "metadata": {
    "id": "5bevJSLhE_Lc"
   },
   "source": [
    "### Preprocessing\n",
    "\n",
    "Let's start by writting a preprocessing function.\n",
    "\n",
    "TensorFlow Datasets packages the MNIST data such that each element is a `dict` with two keys:\n",
    "- `image`: an array containing the image with shape (28, 28, 1), values of type `uint8`, and values between 0 and 255\n",
    "- `label`: An integer between 0 - 9 indicating the digit in the image\n",
    "\n",
    "Write a `preprocess` function that takes in one such element and prepares it for training an autoencoder. Things to make sure your function does:\n",
    "1. Cast the image to a `float32`\n",
    "2. Scale the values of the images so they are between 0 - 1\n",
    "3. Return a tuple with the transformed image and the label\n",
    "\n",
    "Then write another function called `ae_targets` that transforms this $(x, y)$ pair into the tuple that represents the input and target that are appropriate for an autoencoder.\n",
    "\n",
    "Finally, transform the originally dataset with the following steps:\n",
    "1. Grab the training dataset\n",
    "2. apply (i.e. \"map\") the preprocessing function\n",
    "3. apply the function to generate appropriate autoencoder targets\n",
    "3. cache the results (so you only to these tranformations the first time through the dataset)\n",
    "4. split the dataset into batches of size `32`\n",
    "5. set up the resulting dataset to repeat\n",
    "6. set up the resulting dataset to prefetch `5` elements\n",
    "\n",
    "(there is a chain of functions on the `Dataset` to do each of these!)"
   ]
  },
  {
   "cell_type": "code",
   "execution_count": 4,
   "metadata": {
    "id": "8aJJTNCR2VC1"
   },
   "outputs": [
    {
     "data": {
      "text/plain": [
       "<PrefetchDataset shapes: ((None, 28, 28, 1), (None, 28, 28, 1)), types: (tf.float32, tf.float32)>"
      ]
     },
     "execution_count": 4,
     "metadata": {},
     "output_type": "execute_result"
    }
   ],
   "source": [
    "preprocess = lambda d: (tf.cast(d['image'],tf.float32)/255., d['label'])\n",
    "ae_targets = lambda x,y : (x,x)\n",
    "ds_train = \\\n",
    "   data['train'] \\\n",
    "   .map(preprocess) \\\n",
    "   .map(ae_targets) \\\n",
    "   .cache() \\\n",
    "   .batch(32) \\\n",
    "   .repeat() \\\n",
    "   .prefetch(5)\n",
    "ds_train"
   ]
  },
  {
   "cell_type": "markdown",
   "metadata": {
    "id": "IpQgVaNCHzMO"
   },
   "source": [
    "### TensorFlow function API + a simple autoencoder\n",
    "\n",
    "We will want to use the encoder and decoder from our autoencoder separately down the road. Here is some code to build a simple autoencoder with a single hidden layer using the TensorFlow 'functional API' to see show we can combine two submodels (in this case the encoder and the decoder) into on larger model."
   ]
  },
  {
   "cell_type": "code",
   "execution_count": 5,
   "metadata": {
    "colab": {
     "base_uri": "https://localhost:8080/",
     "height": 52
    },
    "id": "xoCZ3o72JYZY",
    "outputId": "969170d6-b73e-4370-bd35-3e28d9e0a455"
   },
   "outputs": [
    {
     "name": "stdout",
     "output_type": "stream",
     "text": [
      "(28, 28, 1)\n",
      "784\n"
     ]
    }
   ],
   "source": [
    "img_shape = info.features['image'].shape\n",
    "print(img_shape)\n",
    "print(np.prod(img_shape))"
   ]
  },
  {
   "cell_type": "code",
   "execution_count": 6,
   "metadata": {
    "colab": {
     "base_uri": "https://localhost:8080/",
     "height": 1000
    },
    "id": "QSo1qWNXJTzH",
    "outputId": "05638367-3728-4e43-de7c-613c001c5fa1"
   },
   "outputs": [
    {
     "name": "stdout",
     "output_type": "stream",
     "text": [
      "Model: \"sequential\"\n",
      "_________________________________________________________________\n",
      "Layer (type)                 Output Shape              Param #   \n",
      "=================================================================\n",
      "flatten (Flatten)            (None, 784)               0         \n",
      "_________________________________________________________________\n",
      "dense (Dense)                (None, 32)                25120     \n",
      "=================================================================\n",
      "Total params: 25,120\n",
      "Trainable params: 25,120\n",
      "Non-trainable params: 0\n",
      "_________________________________________________________________\n",
      "Model: \"sequential_1\"\n",
      "_________________________________________________________________\n",
      "Layer (type)                 Output Shape              Param #   \n",
      "=================================================================\n",
      "dense_1 (Dense)              (None, 784)               25872     \n",
      "_________________________________________________________________\n",
      "reshape (Reshape)            (None, 28, 28, 1)         0         \n",
      "=================================================================\n",
      "Total params: 25,872\n",
      "Trainable params: 25,872\n",
      "Non-trainable params: 0\n",
      "_________________________________________________________________\n",
      "Model: \"functional_1\"\n",
      "_________________________________________________________________\n",
      "Layer (type)                 Output Shape              Param #   \n",
      "=================================================================\n",
      "input_3 (InputLayer)         [(None, 28, 28, 1)]       0         \n",
      "_________________________________________________________________\n",
      "sequential (Sequential)      (None, 32)                25120     \n",
      "_________________________________________________________________\n",
      "sequential_1 (Sequential)    (None, 28, 28, 1)         25872     \n",
      "=================================================================\n",
      "Total params: 50,992\n",
      "Trainable params: 50,992\n",
      "Non-trainable params: 0\n",
      "_________________________________________________________________\n",
      "Epoch 1/20\n",
      "400/400 [==============================] - ETA: 0s - loss: 0.693 - ETA: 0s - loss: 0.606 - ETA: 0s - loss: 0.499 - ETA: 0s - loss: 0.437 - ETA: 0s - loss: 0.399 - ETA: 0s - loss: 0.375 - ETA: 0s - loss: 0.357 - ETA: 0s - loss: 0.341 - ETA: 0s - loss: 0.328 - ETA: 0s - loss: 0.318 - ETA: 0s - loss: 0.307 - ETA: 0s - loss: 0.299 - ETA: 0s - loss: 0.289 - ETA: 0s - loss: 0.284 - ETA: 0s - loss: 0.278 - ETA: 0s - loss: 0.273 - ETA: 0s - loss: 0.268 - ETA: 0s - loss: 0.264 - ETA: 0s - loss: 0.260 - ETA: 0s - loss: 0.256 - ETA: 0s - loss: 0.252 - ETA: 0s - loss: 0.248 - 1s 3ms/step - loss: 0.2483\n",
      "Epoch 2/20\n",
      "400/400 [==============================] - ETA: 0s - loss: 0.194 - ETA: 0s - loss: 0.181 - ETA: 0s - loss: 0.180 - ETA: 0s - loss: 0.179 - ETA: 0s - loss: 0.178 - ETA: 0s - loss: 0.176 - ETA: 0s - loss: 0.175 - ETA: 0s - loss: 0.174 - ETA: 0s - loss: 0.173 - ETA: 0s - loss: 0.173 - ETA: 0s - loss: 0.172 - ETA: 0s - loss: 0.171 - ETA: 0s - loss: 0.171 - ETA: 0s - loss: 0.170 - ETA: 0s - loss: 0.169 - ETA: 0s - loss: 0.168 - ETA: 0s - loss: 0.168 - ETA: 0s - loss: 0.167 - ETA: 0s - loss: 0.166 - ETA: 0s - loss: 0.166 - ETA: 0s - loss: 0.165 - 1s 3ms/step - loss: 0.1650\n",
      "Epoch 3/20\n",
      "400/400 [==============================] - ETA: 0s - loss: 0.138 - ETA: 0s - loss: 0.149 - ETA: 0s - loss: 0.147 - ETA: 0s - loss: 0.146 - ETA: 0s - loss: 0.146 - ETA: 0s - loss: 0.145 - ETA: 0s - loss: 0.145 - ETA: 0s - loss: 0.145 - ETA: 0s - loss: 0.145 - ETA: 0s - loss: 0.144 - ETA: 0s - loss: 0.144 - ETA: 0s - loss: 0.144 - ETA: 0s - loss: 0.143 - ETA: 0s - loss: 0.143 - ETA: 0s - loss: 0.143 - ETA: 0s - loss: 0.142 - ETA: 0s - loss: 0.142 - ETA: 0s - loss: 0.141 - ETA: 0s - loss: 0.141 - ETA: 0s - loss: 0.141 - ETA: 0s - loss: 0.140 - ETA: 0s - loss: 0.140 - 1s 3ms/step - loss: 0.1399\n",
      "Epoch 4/20\n",
      "400/400 [==============================] - ETA: 0s - loss: 0.122 - ETA: 0s - loss: 0.131 - ETA: 0s - loss: 0.131 - ETA: 0s - loss: 0.131 - ETA: 0s - loss: 0.130 - ETA: 0s - loss: 0.130 - ETA: 0s - loss: 0.130 - ETA: 0s - loss: 0.129 - ETA: 0s - loss: 0.129 - ETA: 0s - loss: 0.129 - ETA: 0s - loss: 0.129 - ETA: 0s - loss: 0.129 - ETA: 0s - loss: 0.128 - ETA: 0s - loss: 0.128 - ETA: 0s - loss: 0.128 - ETA: 0s - loss: 0.128 - ETA: 0s - loss: 0.128 - ETA: 0s - loss: 0.127 - ETA: 0s - loss: 0.127 - ETA: 0s - loss: 0.127 - ETA: 0s - loss: 0.127 - ETA: 0s - loss: 0.126 - ETA: 0s - loss: 0.126 - 1s 3ms/step - loss: 0.1263\n",
      "Epoch 5/20\n",
      "400/400 [==============================] - ETA: 0s - loss: 0.124 - ETA: 1s - loss: 0.118 - ETA: 1s - loss: 0.119 - ETA: 0s - loss: 0.120 - ETA: 0s - loss: 0.119 - ETA: 0s - loss: 0.119 - ETA: 0s - loss: 0.119 - ETA: 0s - loss: 0.119 - ETA: 0s - loss: 0.119 - ETA: 0s - loss: 0.119 - ETA: 0s - loss: 0.119 - ETA: 0s - loss: 0.119 - ETA: 0s - loss: 0.118 - ETA: 0s - loss: 0.118 - ETA: 0s - loss: 0.118 - ETA: 0s - loss: 0.118 - ETA: 0s - loss: 0.118 - ETA: 0s - loss: 0.118 - ETA: 0s - loss: 0.117 - ETA: 0s - loss: 0.117 - ETA: 0s - loss: 0.117 - 1s 3ms/step - loss: 0.1175\n",
      "Epoch 6/20\n",
      "400/400 [==============================] - ETA: 0s - loss: 0.115 - ETA: 0s - loss: 0.112 - ETA: 0s - loss: 0.112 - ETA: 0s - loss: 0.113 - ETA: 0s - loss: 0.113 - ETA: 0s - loss: 0.113 - ETA: 0s - loss: 0.112 - ETA: 0s - loss: 0.112 - ETA: 0s - loss: 0.112 - ETA: 0s - loss: 0.112 - ETA: 0s - loss: 0.112 - ETA: 0s - loss: 0.111 - ETA: 0s - loss: 0.111 - ETA: 0s - loss: 0.111 - ETA: 0s - loss: 0.111 - ETA: 0s - loss: 0.110 - ETA: 0s - loss: 0.110 - ETA: 0s - loss: 0.110 - 1s 2ms/step - loss: 0.1104\n",
      "Epoch 7/20\n",
      "400/400 [==============================] - ETA: 0s - loss: 0.108 - ETA: 0s - loss: 0.106 - ETA: 0s - loss: 0.107 - ETA: 0s - loss: 0.107 - ETA: 0s - loss: 0.107 - ETA: 0s - loss: 0.107 - ETA: 0s - loss: 0.107 - ETA: 0s - loss: 0.107 - ETA: 0s - loss: 0.107 - ETA: 0s - loss: 0.107 - ETA: 0s - loss: 0.107 - ETA: 0s - loss: 0.107 - ETA: 0s - loss: 0.107 - ETA: 0s - loss: 0.106 - ETA: 0s - loss: 0.106 - ETA: 0s - loss: 0.106 - ETA: 0s - loss: 0.106 - ETA: 0s - loss: 0.106 - ETA: 0s - loss: 0.106 - 1s 2ms/step - loss: 0.1062\n",
      "Epoch 8/20\n",
      "400/400 [==============================] - ETA: 0s - loss: 0.100 - ETA: 1s - loss: 0.104 - ETA: 1s - loss: 0.104 - ETA: 0s - loss: 0.104 - ETA: 0s - loss: 0.104 - ETA: 0s - loss: 0.104 - ETA: 0s - loss: 0.104 - ETA: 0s - loss: 0.103 - ETA: 0s - loss: 0.103 - ETA: 0s - loss: 0.103 - ETA: 0s - loss: 0.103 - ETA: 0s - loss: 0.103 - ETA: 0s - loss: 0.103 - ETA: 0s - loss: 0.103 - ETA: 0s - loss: 0.103 - ETA: 0s - loss: 0.103 - ETA: 0s - loss: 0.103 - ETA: 0s - loss: 0.102 - ETA: 0s - loss: 0.103 - ETA: 0s - loss: 0.102 - ETA: 0s - loss: 0.102 - 1s 3ms/step - loss: 0.1027\n",
      "Epoch 9/20\n",
      "400/400 [==============================] - ETA: 0s - loss: 0.099 - ETA: 0s - loss: 0.101 - ETA: 0s - loss: 0.101 - ETA: 0s - loss: 0.101 - ETA: 0s - loss: 0.101 - ETA: 0s - loss: 0.101 - ETA: 0s - loss: 0.101 - ETA: 0s - loss: 0.101 - ETA: 0s - loss: 0.101 - ETA: 0s - loss: 0.100 - ETA: 0s - loss: 0.100 - ETA: 0s - loss: 0.100 - ETA: 0s - loss: 0.100 - ETA: 0s - loss: 0.100 - ETA: 0s - loss: 0.100 - ETA: 0s - loss: 0.100 - ETA: 0s - loss: 0.100 - ETA: 0s - loss: 0.100 - ETA: 0s - loss: 0.100 - ETA: 0s - loss: 0.100 - ETA: 0s - loss: 0.100 - 1s 3ms/step - loss: 0.1002\n",
      "Epoch 10/20\n",
      "400/400 [==============================] - ETA: 0s - loss: 0.102 - ETA: 0s - loss: 0.099 - ETA: 0s - loss: 0.099 - ETA: 0s - loss: 0.099 - ETA: 0s - loss: 0.099 - ETA: 0s - loss: 0.098 - ETA: 0s - loss: 0.099 - ETA: 0s - loss: 0.098 - ETA: 0s - loss: 0.099 - ETA: 0s - loss: 0.098 - ETA: 0s - loss: 0.098 - ETA: 0s - loss: 0.098 - ETA: 0s - loss: 0.098 - ETA: 0s - loss: 0.098 - ETA: 0s - loss: 0.098 - 1s 2ms/step - loss: 0.0986\n",
      "Epoch 11/20\n",
      "400/400 [==============================] - ETA: 0s - loss: 0.099 - ETA: 0s - loss: 0.098 - ETA: 0s - loss: 0.097 - ETA: 0s - loss: 0.097 - ETA: 0s - loss: 0.096 - ETA: 0s - loss: 0.097 - ETA: 0s - loss: 0.097 - ETA: 0s - loss: 0.097 - ETA: 0s - loss: 0.096 - ETA: 0s - loss: 0.096 - ETA: 0s - loss: 0.096 - ETA: 0s - loss: 0.096 - ETA: 0s - loss: 0.096 - ETA: 0s - loss: 0.096 - 1s 2ms/step - loss: 0.0967\n",
      "Epoch 12/20\n"
     ]
    },
    {
     "name": "stdout",
     "output_type": "stream",
     "text": [
      "400/400 [==============================] - ETA: 0s - loss: 0.094 - ETA: 0s - loss: 0.098 - ETA: 0s - loss: 0.097 - ETA: 0s - loss: 0.097 - ETA: 0s - loss: 0.097 - ETA: 0s - loss: 0.097 - ETA: 0s - loss: 0.096 - ETA: 0s - loss: 0.096 - ETA: 0s - loss: 0.096 - ETA: 0s - loss: 0.096 - ETA: 0s - loss: 0.096 - ETA: 0s - loss: 0.096 - ETA: 0s - loss: 0.096 - ETA: 0s - loss: 0.096 - 1s 2ms/step - loss: 0.0965\n",
      "Epoch 13/20\n",
      "400/400 [==============================] - ETA: 0s - loss: 0.103 - ETA: 0s - loss: 0.095 - ETA: 0s - loss: 0.096 - ETA: 0s - loss: 0.096 - ETA: 0s - loss: 0.096 - ETA: 0s - loss: 0.095 - ETA: 0s - loss: 0.095 - ETA: 0s - loss: 0.096 - ETA: 0s - loss: 0.096 - ETA: 0s - loss: 0.096 - ETA: 0s - loss: 0.096 - ETA: 0s - loss: 0.096 - ETA: 0s - loss: 0.096 - ETA: 0s - loss: 0.096 - 1s 2ms/step - loss: 0.0962\n",
      "Epoch 14/20\n",
      "400/400 [==============================] - ETA: 0s - loss: 0.098 - ETA: 0s - loss: 0.096 - ETA: 0s - loss: 0.095 - ETA: 0s - loss: 0.095 - ETA: 0s - loss: 0.095 - ETA: 0s - loss: 0.095 - ETA: 0s - loss: 0.095 - ETA: 0s - loss: 0.095 - ETA: 0s - loss: 0.095 - ETA: 0s - loss: 0.095 - ETA: 0s - loss: 0.095 - ETA: 0s - loss: 0.095 - ETA: 0s - loss: 0.095 - ETA: 0s - loss: 0.095 - 1s 2ms/step - loss: 0.0957\n",
      "Epoch 15/20\n",
      "400/400 [==============================] - ETA: 0s - loss: 0.092 - ETA: 0s - loss: 0.094 - ETA: 0s - loss: 0.095 - ETA: 0s - loss: 0.095 - ETA: 0s - loss: 0.095 - ETA: 0s - loss: 0.095 - ETA: 0s - loss: 0.095 - ETA: 0s - loss: 0.095 - ETA: 0s - loss: 0.095 - ETA: 0s - loss: 0.095 - ETA: 0s - loss: 0.095 - ETA: 0s - loss: 0.095 - ETA: 0s - loss: 0.095 - ETA: 0s - loss: 0.095 - 1s 2ms/step - loss: 0.0953\n",
      "Epoch 16/20\n",
      "400/400 [==============================] - ETA: 0s - loss: 0.092 - ETA: 0s - loss: 0.095 - ETA: 0s - loss: 0.094 - ETA: 0s - loss: 0.094 - ETA: 0s - loss: 0.094 - ETA: 0s - loss: 0.094 - ETA: 0s - loss: 0.094 - ETA: 0s - loss: 0.094 - ETA: 0s - loss: 0.094 - ETA: 0s - loss: 0.094 - ETA: 0s - loss: 0.094 - ETA: 0s - loss: 0.094 - ETA: 0s - loss: 0.094 - ETA: 0s - loss: 0.094 - ETA: 0s - loss: 0.094 - ETA: 0s - loss: 0.095 - 1s 2ms/step - loss: 0.0950\n",
      "Epoch 17/20\n",
      "400/400 [==============================] - ETA: 0s - loss: 0.093 - ETA: 0s - loss: 0.093 - ETA: 0s - loss: 0.094 - ETA: 0s - loss: 0.094 - ETA: 0s - loss: 0.094 - ETA: 0s - loss: 0.094 - ETA: 0s - loss: 0.094 - ETA: 0s - loss: 0.094 - ETA: 0s - loss: 0.094 - ETA: 0s - loss: 0.094 - ETA: 0s - loss: 0.094 - ETA: 0s - loss: 0.094 - ETA: 0s - loss: 0.094 - 1s 2ms/step - loss: 0.0946\n",
      "Epoch 18/20\n",
      "400/400 [==============================] - ETA: 0s - loss: 0.096 - ETA: 0s - loss: 0.094 - ETA: 0s - loss: 0.094 - ETA: 0s - loss: 0.094 - ETA: 0s - loss: 0.095 - ETA: 0s - loss: 0.095 - ETA: 0s - loss: 0.095 - ETA: 0s - loss: 0.095 - ETA: 0s - loss: 0.095 - ETA: 0s - loss: 0.095 - ETA: 0s - loss: 0.095 - ETA: 0s - loss: 0.095 - ETA: 0s - loss: 0.095 - ETA: 0s - loss: 0.095 - ETA: 0s - loss: 0.095 - 1s 2ms/step - loss: 0.0951\n",
      "Epoch 19/20\n",
      "400/400 [==============================] - ETA: 0s - loss: 0.093 - ETA: 0s - loss: 0.093 - ETA: 0s - loss: 0.093 - ETA: 0s - loss: 0.094 - ETA: 0s - loss: 0.094 - ETA: 0s - loss: 0.094 - ETA: 0s - loss: 0.094 - ETA: 0s - loss: 0.094 - ETA: 0s - loss: 0.094 - ETA: 0s - loss: 0.094 - ETA: 0s - loss: 0.094 - ETA: 0s - loss: 0.094 - ETA: 0s - loss: 0.094 - ETA: 0s - loss: 0.094 - ETA: 0s - loss: 0.094 - 1s 2ms/step - loss: 0.0949\n",
      "Epoch 20/20\n",
      "400/400 [==============================] - ETA: 0s - loss: 0.097 - ETA: 0s - loss: 0.094 - ETA: 0s - loss: 0.094 - ETA: 0s - loss: 0.094 - ETA: 0s - loss: 0.094 - ETA: 0s - loss: 0.094 - ETA: 0s - loss: 0.094 - ETA: 0s - loss: 0.094 - ETA: 0s - loss: 0.094 - ETA: 0s - loss: 0.094 - ETA: 0s - loss: 0.094 - ETA: 0s - loss: 0.094 - ETA: 0s - loss: 0.094 - ETA: 0s - loss: 0.094 - 1s 2ms/step - loss: 0.0942\n"
     ]
    }
   ],
   "source": [
    "encoder = tfk.Sequential([\n",
    "  tfkl.InputLayer(img_shape),\n",
    "  tfkl.Flatten(),\n",
    "  tfkl.Dense(32, activation=tf.nn.relu)\n",
    "])\n",
    "encoder.summary()\n",
    "\n",
    "decoder = tfk.Sequential([\n",
    "  tfkl.InputLayer(32),\n",
    "  tfkl.Dense(np.prod(img_shape), activation=tf.nn.sigmoid),\n",
    "  tfkl.Reshape(img_shape)\n",
    "])\n",
    "decoder.summary()\n",
    "\n",
    "# the tf.keras function API starts with defining placeholder tensors that represent model inputs\n",
    "x = tfkl.Input(img_shape)\n",
    "\n",
    "# we can then pass this placeholder through our models to specify the computation to get a prediction\n",
    "h = encoder(x)\n",
    "xhat = decoder(h)\n",
    "\n",
    "# finally we use the tfk.Model class instantiate the model by specifying the inputs and outputs\n",
    "# (note: this can also be lists, which is how you make more complex models with multiple inputs and/or outputs)\n",
    "autoencoder = tfk.Model(inputs=x, outputs=xhat)\n",
    "autoencoder.summary()\n",
    "\n",
    "# training happens as usual\n",
    "autoencoder.compile(\n",
    "    optimizer=tfk.optimizers.Adam(),\n",
    "    loss=tfk.losses.BinaryCrossentropy(),\n",
    ")\n",
    "\n",
    "results = autoencoder.fit(ds_train, steps_per_epoch=400, epochs=20)"
   ]
  },
  {
   "cell_type": "code",
   "execution_count": 7,
   "metadata": {
    "colab": {
     "base_uri": "https://localhost:8080/",
     "height": 1000
    },
    "id": "WdpBTykAVbcL",
    "outputId": "aca5c45d-75e9-45e3-a35f-d1fbc1dc3184"
   },
   "outputs": [
    {
     "data": {
      "image/png": "[encoded data removed]",
      "text/plain": [
       "<Figure size 432x288 with 2 Axes>"
      ]
     },
     "metadata": {
      "needs_background": "light"
     },
     "output_type": "display_data"
    },
    {
     "data": {
      "image/png": "[encoded data removed]",
      "text/plain": [
       "<Figure size 432x288 with 2 Axes>"
      ]
     },
     "metadata": {
      "needs_background": "light"
     },
     "output_type": "display_data"
    },
    {
     "data": {
      "image/png": "[encoded data removed]",
      "text/plain": [
       "<Figure size 432x288 with 2 Axes>"
      ]
     },
     "metadata": {
      "needs_background": "light"
     },
     "output_type": "display_data"
    },
    {
     "data": {
      "image/png": "[encoded data removed]",
      "text/plain": [
       "<Figure size 432x288 with 2 Axes>"
      ]
     },
     "metadata": {
      "needs_background": "light"
     },
     "output_type": "display_data"
    },
    {
     "data": {
      "image/png": "[encoded data removed]",
      "text/plain": [
       "<Figure size 432x288 with 2 Axes>"
      ]
     },
     "metadata": {
      "needs_background": "light"
     },
     "output_type": "display_data"
    },
    {
     "data": {
      "image/png": "[encoded data removed]",
      "text/plain": [
       "<Figure size 432x288 with 2 Axes>"
      ]
     },
     "metadata": {
      "needs_background": "light"
     },
     "output_type": "display_data"
    },
    {
     "data": {
      "image/png": "[encoded data removed]",
      "text/plain": [
       "<Figure size 432x288 with 2 Axes>"
      ]
     },
     "metadata": {
      "needs_background": "light"
     },
     "output_type": "display_data"
    },
    {
     "data": {
      "image/png": "[encoded data removed]",
      "text/plain": [
       "<Figure size 432x288 with 2 Axes>"
      ]
     },
     "metadata": {
      "needs_background": "light"
     },
     "output_type": "display_data"
    },
    {
     "data": {
      "image/png": "[encoded data removed]",
      "text/plain": [
       "<Figure size 432x288 with 2 Axes>"
      ]
     },
     "metadata": {
      "needs_background": "light"
     },
     "output_type": "display_data"
    },
    {
     "data": {
      "image/png": "[encoded data removed]",
      "text/plain": [
       "<Figure size 432x288 with 2 Axes>"
      ]
     },
     "metadata": {
      "needs_background": "light"
     },
     "output_type": "display_data"
    }
   ],
   "source": [
    "imgs = next(iter(ds_train))[0]\n",
    "for i in range(10):\n",
    "    plt.subplot(1, 2, 1)\n",
    "    plt.imshow(imgs[i].numpy().squeeze(), cmap='bone')\n",
    "    plt.subplot(1, 2, 2, )\n",
    "    plt.imshow(autoencoder(imgs[i][tf.newaxis]).numpy().squeeze(), cmap='bone')\n",
    "    plt.show()"
   ]
  },
  {
   "cell_type": "markdown",
   "metadata": {
    "id": "JIGnE0CwVxXb"
   },
   "source": [
    "### Deep autoencoder and latent representations\n",
    "\n",
    "We want to reduce the dimensionality to the hidden layer so that we can plot the hidden representations to see how the autoencoder is organizing the data. If our hidden layers is going to be so much smaller, we will need to make up for it by making the network deeper.\n",
    "\n",
    "Modify the code above to make this work. Try a layers of size 156 -> 32 -> 2. After trining the model, use the encoder by itself and make a scatter plot of the some of the data, coloring each point by the digit identity. Which digits end up bunched together? Which are more well separated? Why might this be?"
   ]
  },
  {
   "cell_type": "code",
   "execution_count": 15,
   "metadata": {
    "colab": {
     "base_uri": "https://localhost:8080/",
     "height": 950
    },
    "id": "b1t8p-Ak0VdN",
    "outputId": "67c6a326-35d0-47f2-967a-b885a58397e5"
   },
   "outputs": [
    {
     "name": "stdout",
     "output_type": "stream",
     "text": [
      "Model: \"sequential_4\"\n",
      "_________________________________________________________________\n",
      "Layer (type)                 Output Shape              Param #   \n",
      "=================================================================\n",
      "flatten_2 (Flatten)          (None, 784)               0         \n",
      "_________________________________________________________________\n",
      "dense_8 (Dense)              (None, 156)               122460    \n",
      "_________________________________________________________________\n",
      "dense_9 (Dense)              (None, 32)                5024      \n",
      "_________________________________________________________________\n",
      "dense_10 (Dense)             (None, 2)                 66        \n",
      "=================================================================\n",
      "Total params: 127,550\n",
      "Trainable params: 127,550\n",
      "Non-trainable params: 0\n",
      "_________________________________________________________________\n",
      "Model: \"sequential_5\"\n",
      "_________________________________________________________________\n",
      "Layer (type)                 Output Shape              Param #   \n",
      "=================================================================\n",
      "dense_11 (Dense)             (None, 32)                96        \n",
      "_________________________________________________________________\n",
      "dense_12 (Dense)             (None, 156)               5148      \n",
      "_________________________________________________________________\n",
      "dense_13 (Dense)             (None, 784)               123088    \n",
      "_________________________________________________________________\n",
      "reshape_2 (Reshape)          (None, 28, 28, 1)         0         \n",
      "=================================================================\n",
      "Total params: 128,332\n",
      "Trainable params: 128,332\n",
      "Non-trainable params: 0\n",
      "_________________________________________________________________\n"
     ]
    }
   ],
   "source": [
    "encoder = tfk.Sequential([\n",
    "  tfkl.InputLayer(img_shape),\n",
    "  tfkl.Flatten(),\n",
    "  tfkl.Dense(156, activation=tf.nn.relu),\n",
    "  tfkl.Dense(32, activation=tf.nn.relu),\n",
    "  tfkl.Dense(2, activation=None)\n",
    "])\n",
    "\n",
    "encoder.summary()\n",
    "\n",
    "decoder = tfk.Sequential([\n",
    "  tfkl.InputLayer(2),\n",
    "  tfkl.Dense(32, activation=tf.nn.relu),\n",
    "  tfkl.Dense(156, activation=tf.nn.relu),\n",
    "  tfkl.Dense(np.prod(img_shape), activation=tf.nn.sigmoid),\n",
    "  tfkl.Reshape(img_shape)\n",
    "])\n",
    "decoder.summary()"
   ]
  },
  {
   "cell_type": "code",
   "execution_count": 20,
   "metadata": {},
   "outputs": [
    {
     "name": "stdout",
     "output_type": "stream",
     "text": [
      "Model: \"functional_5\"\n",
      "_________________________________________________________________\n",
      "Layer (type)                 Output Shape              Param #   \n",
      "=================================================================\n",
      "input_9 (InputLayer)         [(None, 28, 28, 1)]       0         \n",
      "_________________________________________________________________\n",
      "sequential_4 (Sequential)    (None, 2)                 127550    \n",
      "_________________________________________________________________\n",
      "sequential_5 (Sequential)    (None, 28, 28, 1)         128332    \n",
      "=================================================================\n",
      "Total params: 255,882\n",
      "Trainable params: 255,882\n",
      "Non-trainable params: 0\n",
      "_________________________________________________________________\n",
      "Epoch 1/20\n",
      "400/400 [==============================] - ETA: 0s - loss: 0.693 - ETA: 1s - loss: 0.583 - ETA: 1s - loss: 0.463 - ETA: 1s - loss: 0.406 - ETA: 1s - loss: 0.372 - ETA: 1s - loss: 0.352 - ETA: 1s - loss: 0.336 - ETA: 0s - loss: 0.323 - ETA: 0s - loss: 0.312 - ETA: 0s - loss: 0.304 - ETA: 0s - loss: 0.297 - ETA: 0s - loss: 0.292 - ETA: 0s - loss: 0.288 - ETA: 0s - loss: 0.285 - ETA: 0s - loss: 0.281 - ETA: 0s - loss: 0.279 - ETA: 0s - loss: 0.276 - ETA: 0s - loss: 0.274 - ETA: 0s - loss: 0.271 - ETA: 0s - loss: 0.268 - ETA: 0s - loss: 0.267 - ETA: 0s - loss: 0.265 - ETA: 0s - loss: 0.263 - ETA: 0s - loss: 0.261 - 1s 3ms/step - loss: 0.2612\n",
      "Epoch 2/20\n",
      "400/400 [==============================] - ETA: 0s - loss: 0.239 - ETA: 1s - loss: 0.223 - ETA: 1s - loss: 0.222 - ETA: 1s - loss: 0.223 - ETA: 1s - loss: 0.224 - ETA: 0s - loss: 0.223 - ETA: 0s - loss: 0.222 - ETA: 0s - loss: 0.221 - ETA: 0s - loss: 0.221 - ETA: 0s - loss: 0.221 - ETA: 0s - loss: 0.221 - ETA: 0s - loss: 0.220 - ETA: 0s - loss: 0.220 - ETA: 0s - loss: 0.220 - ETA: 0s - loss: 0.220 - ETA: 0s - loss: 0.220 - ETA: 0s - loss: 0.220 - ETA: 0s - loss: 0.219 - ETA: 0s - loss: 0.219 - ETA: 0s - loss: 0.219 - ETA: 0s - loss: 0.219 - ETA: 0s - loss: 0.219 - ETA: 0s - loss: 0.219 - 1s 3ms/step - loss: 0.2186\n",
      "Epoch 3/20\n",
      "400/400 [==============================] - ETA: 0s - loss: 0.205 - ETA: 1s - loss: 0.211 - ETA: 1s - loss: 0.211 - ETA: 1s - loss: 0.209 - ETA: 1s - loss: 0.209 - ETA: 1s - loss: 0.210 - ETA: 0s - loss: 0.209 - ETA: 0s - loss: 0.210 - ETA: 0s - loss: 0.209 - ETA: 0s - loss: 0.209 - ETA: 0s - loss: 0.209 - ETA: 0s - loss: 0.209 - ETA: 0s - loss: 0.209 - ETA: 0s - loss: 0.208 - ETA: 0s - loss: 0.208 - ETA: 0s - loss: 0.208 - ETA: 0s - loss: 0.208 - ETA: 0s - loss: 0.208 - ETA: 0s - loss: 0.208 - ETA: 0s - loss: 0.208 - ETA: 0s - loss: 0.208 - ETA: 0s - loss: 0.207 - 1s 3ms/step - loss: 0.2078\n",
      "Epoch 4/20\n",
      "400/400 [==============================] - ETA: 0s - loss: 0.196 - ETA: 1s - loss: 0.202 - ETA: 1s - loss: 0.203 - ETA: 1s - loss: 0.205 - ETA: 0s - loss: 0.204 - ETA: 0s - loss: 0.203 - ETA: 0s - loss: 0.204 - ETA: 0s - loss: 0.203 - ETA: 0s - loss: 0.203 - ETA: 0s - loss: 0.203 - ETA: 0s - loss: 0.202 - ETA: 0s - loss: 0.202 - ETA: 0s - loss: 0.202 - ETA: 0s - loss: 0.202 - ETA: 0s - loss: 0.202 - ETA: 0s - loss: 0.202 - ETA: 0s - loss: 0.202 - ETA: 0s - loss: 0.202 - ETA: 0s - loss: 0.202 - ETA: 0s - loss: 0.202 - ETA: 0s - loss: 0.201 - ETA: 0s - loss: 0.201 - ETA: 0s - loss: 0.201 - ETA: 0s - loss: 0.201 - 1s 3ms/step - loss: 0.2016\n",
      "Epoch 5/20\n",
      "400/400 [==============================] - ETA: 0s - loss: 0.206 - ETA: 1s - loss: 0.195 - ETA: 1s - loss: 0.196 - ETA: 1s - loss: 0.198 - ETA: 1s - loss: 0.198 - ETA: 1s - loss: 0.198 - ETA: 0s - loss: 0.198 - ETA: 0s - loss: 0.199 - ETA: 0s - loss: 0.199 - ETA: 0s - loss: 0.199 - ETA: 0s - loss: 0.199 - ETA: 0s - loss: 0.199 - ETA: 0s - loss: 0.199 - ETA: 0s - loss: 0.199 - ETA: 0s - loss: 0.199 - ETA: 0s - loss: 0.199 - ETA: 0s - loss: 0.198 - ETA: 0s - loss: 0.198 - ETA: 0s - loss: 0.198 - ETA: 0s - loss: 0.198 - ETA: 0s - loss: 0.198 - ETA: 0s - loss: 0.198 - ETA: 0s - loss: 0.198 - ETA: 0s - loss: 0.198 - 1s 3ms/step - loss: 0.1985\n",
      "Epoch 6/20\n",
      "400/400 [==============================] - ETA: 0s - loss: 0.195 - ETA: 1s - loss: 0.196 - ETA: 1s - loss: 0.195 - ETA: 1s - loss: 0.194 - ETA: 0s - loss: 0.195 - ETA: 0s - loss: 0.196 - ETA: 0s - loss: 0.196 - ETA: 0s - loss: 0.197 - ETA: 0s - loss: 0.197 - ETA: 0s - loss: 0.197 - ETA: 0s - loss: 0.196 - ETA: 0s - loss: 0.196 - ETA: 0s - loss: 0.196 - ETA: 0s - loss: 0.196 - ETA: 0s - loss: 0.196 - ETA: 0s - loss: 0.196 - ETA: 0s - loss: 0.196 - ETA: 0s - loss: 0.195 - ETA: 0s - loss: 0.195 - ETA: 0s - loss: 0.195 - ETA: 0s - loss: 0.195 - ETA: 0s - loss: 0.195 - ETA: 0s - loss: 0.195 - 1s 3ms/step - loss: 0.1950\n",
      "Epoch 7/20\n",
      "400/400 [==============================] - ETA: 0s - loss: 0.188 - ETA: 1s - loss: 0.191 - ETA: 1s - loss: 0.192 - ETA: 1s - loss: 0.194 - ETA: 1s - loss: 0.194 - ETA: 1s - loss: 0.194 - ETA: 0s - loss: 0.195 - ETA: 0s - loss: 0.195 - ETA: 0s - loss: 0.194 - ETA: 0s - loss: 0.194 - ETA: 0s - loss: 0.194 - ETA: 0s - loss: 0.194 - ETA: 0s - loss: 0.194 - ETA: 0s - loss: 0.194 - ETA: 0s - loss: 0.194 - ETA: 0s - loss: 0.194 - ETA: 0s - loss: 0.194 - ETA: 0s - loss: 0.194 - ETA: 0s - loss: 0.194 - ETA: 0s - loss: 0.194 - ETA: 0s - loss: 0.194 - ETA: 0s - loss: 0.194 - ETA: 0s - loss: 0.194 - ETA: 0s - loss: 0.194 - 1s 3ms/step - loss: 0.1942\n",
      "Epoch 8/20\n",
      "400/400 [==============================] - ETA: 0s - loss: 0.180 - ETA: 1s - loss: 0.189 - ETA: 1s - loss: 0.191 - ETA: 1s - loss: 0.190 - ETA: 1s - loss: 0.192 - ETA: 1s - loss: 0.193 - ETA: 0s - loss: 0.192 - ETA: 0s - loss: 0.192 - ETA: 0s - loss: 0.192 - ETA: 0s - loss: 0.192 - ETA: 0s - loss: 0.192 - ETA: 0s - loss: 0.192 - ETA: 0s - loss: 0.192 - ETA: 0s - loss: 0.193 - ETA: 0s - loss: 0.193 - ETA: 0s - loss: 0.193 - ETA: 0s - loss: 0.192 - ETA: 0s - loss: 0.192 - ETA: 0s - loss: 0.192 - ETA: 0s - loss: 0.192 - ETA: 0s - loss: 0.192 - ETA: 0s - loss: 0.192 - ETA: 0s - loss: 0.192 - ETA: 0s - loss: 0.192 - 1s 3ms/step - loss: 0.1924\n",
      "Epoch 9/20\n",
      "400/400 [==============================] - ETA: 0s - loss: 0.194 - ETA: 1s - loss: 0.194 - ETA: 1s - loss: 0.191 - ETA: 1s - loss: 0.190 - ETA: 0s - loss: 0.190 - ETA: 0s - loss: 0.190 - ETA: 0s - loss: 0.190 - ETA: 0s - loss: 0.191 - ETA: 0s - loss: 0.191 - ETA: 0s - loss: 0.191 - ETA: 0s - loss: 0.191 - ETA: 0s - loss: 0.191 - ETA: 0s - loss: 0.191 - ETA: 0s - loss: 0.191 - ETA: 0s - loss: 0.191 - ETA: 0s - loss: 0.190 - ETA: 0s - loss: 0.190 - ETA: 0s - loss: 0.190 - ETA: 0s - loss: 0.190 - ETA: 0s - loss: 0.190 - ETA: 0s - loss: 0.190 - ETA: 0s - loss: 0.190 - ETA: 0s - loss: 0.190 - ETA: 0s - loss: 0.190 - 1s 3ms/step - loss: 0.1907\n",
      "Epoch 10/20\n",
      "400/400 [==============================] - ETA: 0s - loss: 0.188 - ETA: 1s - loss: 0.189 - ETA: 1s - loss: 0.190 - ETA: 1s - loss: 0.190 - ETA: 1s - loss: 0.190 - ETA: 1s - loss: 0.190 - ETA: 0s - loss: 0.190 - ETA: 0s - loss: 0.190 - ETA: 0s - loss: 0.190 - ETA: 0s - loss: 0.190 - ETA: 0s - loss: 0.189 - ETA: 0s - loss: 0.190 - ETA: 0s - loss: 0.190 - ETA: 0s - loss: 0.190 - ETA: 0s - loss: 0.190 - ETA: 0s - loss: 0.190 - ETA: 0s - loss: 0.190 - ETA: 0s - loss: 0.190 - ETA: 0s - loss: 0.190 - ETA: 0s - loss: 0.190 - ETA: 0s - loss: 0.190 - ETA: 0s - loss: 0.189 - ETA: 0s - loss: 0.189 - ETA: 0s - loss: 0.189 - ETA: 0s - loss: 0.190 - ETA: 0s - loss: 0.190 - ETA: 0s - loss: 0.190 - 1s 4ms/step - loss: 0.1902\n",
      "Epoch 11/20\n",
      "400/400 [==============================] - ETA: 0s - loss: 0.193 - ETA: 1s - loss: 0.190 - ETA: 1s - loss: 0.190 - ETA: 1s - loss: 0.188 - ETA: 1s - loss: 0.189 - ETA: 1s - loss: 0.189 - ETA: 1s - loss: 0.189 - ETA: 0s - loss: 0.189 - ETA: 0s - loss: 0.188 - ETA: 0s - loss: 0.188 - ETA: 0s - loss: 0.188 - ETA: 0s - loss: 0.188 - ETA: 0s - loss: 0.187 - ETA: 0s - loss: 0.188 - ETA: 0s - loss: 0.188 - ETA: 0s - loss: 0.187 - ETA: 0s - loss: 0.187 - ETA: 0s - loss: 0.187 - ETA: 0s - loss: 0.187 - ETA: 0s - loss: 0.187 - ETA: 0s - loss: 0.187 - ETA: 0s - loss: 0.187 - ETA: 0s - loss: 0.187 - ETA: 0s - loss: 0.187 - ETA: 0s - loss: 0.187 - 1s 3ms/step - loss: 0.1876\n",
      "Epoch 12/20\n"
     ]
    },
    {
     "name": "stdout",
     "output_type": "stream",
     "text": [
      "400/400 [==============================] - ETA: 0s - loss: 0.191 - ETA: 1s - loss: 0.189 - ETA: 0s - loss: 0.186 - ETA: 0s - loss: 0.187 - ETA: 0s - loss: 0.187 - ETA: 0s - loss: 0.187 - ETA: 0s - loss: 0.188 - ETA: 0s - loss: 0.188 - ETA: 0s - loss: 0.188 - ETA: 0s - loss: 0.188 - ETA: 0s - loss: 0.188 - ETA: 0s - loss: 0.187 - ETA: 0s - loss: 0.187 - ETA: 0s - loss: 0.187 - ETA: 0s - loss: 0.187 - ETA: 0s - loss: 0.187 - ETA: 0s - loss: 0.187 - ETA: 0s - loss: 0.187 - ETA: 0s - loss: 0.187 - ETA: 0s - loss: 0.187 - ETA: 0s - loss: 0.187 - ETA: 0s - loss: 0.187 - ETA: 0s - loss: 0.187 - 1s 3ms/step - loss: 0.1873\n",
      "Epoch 13/20\n",
      "400/400 [==============================] - ETA: 0s - loss: 0.198 - ETA: 1s - loss: 0.190 - ETA: 1s - loss: 0.187 - ETA: 1s - loss: 0.188 - ETA: 1s - loss: 0.187 - ETA: 1s - loss: 0.188 - ETA: 1s - loss: 0.189 - ETA: 0s - loss: 0.188 - ETA: 0s - loss: 0.188 - ETA: 0s - loss: 0.187 - ETA: 0s - loss: 0.187 - ETA: 0s - loss: 0.187 - ETA: 0s - loss: 0.187 - ETA: 0s - loss: 0.187 - ETA: 0s - loss: 0.187 - ETA: 0s - loss: 0.187 - ETA: 0s - loss: 0.187 - ETA: 0s - loss: 0.187 - ETA: 0s - loss: 0.187 - ETA: 0s - loss: 0.186 - ETA: 0s - loss: 0.187 - ETA: 0s - loss: 0.186 - ETA: 0s - loss: 0.186 - 1s 3ms/step - loss: 0.1868\n",
      "Epoch 14/20\n",
      "400/400 [==============================] - ETA: 0s - loss: 0.186 - ETA: 1s - loss: 0.185 - ETA: 1s - loss: 0.185 - ETA: 1s - loss: 0.185 - ETA: 1s - loss: 0.185 - ETA: 0s - loss: 0.185 - ETA: 0s - loss: 0.185 - ETA: 0s - loss: 0.185 - ETA: 0s - loss: 0.185 - ETA: 0s - loss: 0.185 - ETA: 0s - loss: 0.185 - ETA: 0s - loss: 0.184 - ETA: 0s - loss: 0.185 - ETA: 0s - loss: 0.185 - ETA: 0s - loss: 0.185 - ETA: 0s - loss: 0.185 - ETA: 0s - loss: 0.185 - ETA: 0s - loss: 0.185 - ETA: 0s - loss: 0.185 - ETA: 0s - loss: 0.185 - ETA: 0s - loss: 0.185 - ETA: 0s - loss: 0.185 - ETA: 0s - loss: 0.185 - ETA: 0s - loss: 0.185 - 1s 3ms/step - loss: 0.1856\n",
      "Epoch 15/20\n",
      "400/400 [==============================] - ETA: 0s - loss: 0.183 - ETA: 1s - loss: 0.185 - ETA: 1s - loss: 0.181 - ETA: 1s - loss: 0.183 - ETA: 0s - loss: 0.184 - ETA: 0s - loss: 0.183 - ETA: 0s - loss: 0.184 - ETA: 0s - loss: 0.184 - ETA: 0s - loss: 0.184 - ETA: 0s - loss: 0.184 - ETA: 0s - loss: 0.184 - ETA: 0s - loss: 0.184 - ETA: 0s - loss: 0.184 - ETA: 0s - loss: 0.184 - ETA: 0s - loss: 0.184 - ETA: 0s - loss: 0.184 - ETA: 0s - loss: 0.185 - ETA: 0s - loss: 0.185 - ETA: 0s - loss: 0.185 - ETA: 0s - loss: 0.185 - ETA: 0s - loss: 0.185 - ETA: 0s - loss: 0.185 - ETA: 0s - loss: 0.184 - ETA: 0s - loss: 0.184 - 1s 3ms/step - loss: 0.1847\n",
      "Epoch 16/20\n",
      "400/400 [==============================] - ETA: 0s - loss: 0.176 - ETA: 1s - loss: 0.181 - ETA: 1s - loss: 0.183 - ETA: 1s - loss: 0.182 - ETA: 1s - loss: 0.181 - ETA: 1s - loss: 0.182 - ETA: 1s - loss: 0.182 - ETA: 0s - loss: 0.182 - ETA: 0s - loss: 0.181 - ETA: 0s - loss: 0.181 - ETA: 0s - loss: 0.181 - ETA: 0s - loss: 0.181 - ETA: 0s - loss: 0.181 - ETA: 0s - loss: 0.182 - ETA: 0s - loss: 0.182 - ETA: 0s - loss: 0.182 - ETA: 0s - loss: 0.182 - ETA: 0s - loss: 0.182 - ETA: 0s - loss: 0.182 - ETA: 0s - loss: 0.182 - ETA: 0s - loss: 0.182 - ETA: 0s - loss: 0.182 - ETA: 0s - loss: 0.182 - ETA: 0s - loss: 0.182 - ETA: 0s - loss: 0.182 - 1s 3ms/step - loss: 0.1828\n",
      "Epoch 17/20\n",
      "400/400 [==============================] - ETA: 0s - loss: 0.178 - ETA: 1s - loss: 0.184 - ETA: 1s - loss: 0.182 - ETA: 1s - loss: 0.182 - ETA: 1s - loss: 0.181 - ETA: 0s - loss: 0.181 - ETA: 0s - loss: 0.181 - ETA: 0s - loss: 0.181 - ETA: 0s - loss: 0.182 - ETA: 0s - loss: 0.182 - ETA: 0s - loss: 0.182 - ETA: 0s - loss: 0.182 - ETA: 0s - loss: 0.182 - ETA: 0s - loss: 0.182 - ETA: 0s - loss: 0.182 - ETA: 0s - loss: 0.182 - ETA: 0s - loss: 0.182 - ETA: 0s - loss: 0.182 - ETA: 0s - loss: 0.183 - ETA: 0s - loss: 0.183 - ETA: 0s - loss: 0.183 - ETA: 0s - loss: 0.183 - ETA: 0s - loss: 0.183 - 1s 3ms/step - loss: 0.1833\n",
      "Epoch 18/20\n",
      "400/400 [==============================] - ETA: 0s - loss: 0.175 - ETA: 1s - loss: 0.177 - ETA: 1s - loss: 0.180 - ETA: 1s - loss: 0.180 - ETA: 1s - loss: 0.181 - ETA: 0s - loss: 0.182 - ETA: 0s - loss: 0.182 - ETA: 0s - loss: 0.182 - ETA: 0s - loss: 0.182 - ETA: 0s - loss: 0.182 - ETA: 0s - loss: 0.182 - ETA: 0s - loss: 0.182 - ETA: 0s - loss: 0.182 - ETA: 0s - loss: 0.182 - ETA: 0s - loss: 0.182 - ETA: 0s - loss: 0.182 - ETA: 0s - loss: 0.182 - ETA: 0s - loss: 0.182 - ETA: 0s - loss: 0.182 - ETA: 0s - loss: 0.182 - ETA: 0s - loss: 0.182 - ETA: 0s - loss: 0.182 - ETA: 0s - loss: 0.182 - ETA: 0s - loss: 0.182 - 1s 3ms/step - loss: 0.1824\n",
      "Epoch 19/20\n",
      "400/400 [==============================] - ETA: 0s - loss: 0.162 - ETA: 1s - loss: 0.178 - ETA: 1s - loss: 0.178 - ETA: 0s - loss: 0.178 - ETA: 0s - loss: 0.180 - ETA: 0s - loss: 0.180 - ETA: 0s - loss: 0.180 - ETA: 0s - loss: 0.180 - ETA: 0s - loss: 0.181 - ETA: 0s - loss: 0.181 - ETA: 0s - loss: 0.181 - ETA: 0s - loss: 0.182 - ETA: 0s - loss: 0.181 - ETA: 0s - loss: 0.182 - ETA: 0s - loss: 0.181 - ETA: 0s - loss: 0.182 - ETA: 0s - loss: 0.182 - ETA: 0s - loss: 0.181 - ETA: 0s - loss: 0.181 - ETA: 0s - loss: 0.181 - ETA: 0s - loss: 0.181 - ETA: 0s - loss: 0.181 - ETA: 0s - loss: 0.181 - ETA: 0s - loss: 0.181 - 1s 3ms/step - loss: 0.1819\n",
      "Epoch 20/20\n",
      "400/400 [==============================] - ETA: 0s - loss: 0.174 - ETA: 1s - loss: 0.183 - ETA: 1s - loss: 0.181 - ETA: 1s - loss: 0.180 - ETA: 1s - loss: 0.180 - ETA: 0s - loss: 0.180 - ETA: 0s - loss: 0.181 - ETA: 0s - loss: 0.181 - ETA: 0s - loss: 0.181 - ETA: 0s - loss: 0.182 - ETA: 0s - loss: 0.182 - ETA: 0s - loss: 0.181 - ETA: 0s - loss: 0.181 - ETA: 0s - loss: 0.181 - ETA: 0s - loss: 0.181 - ETA: 0s - loss: 0.181 - ETA: 0s - loss: 0.181 - ETA: 0s - loss: 0.181 - ETA: 0s - loss: 0.181 - ETA: 0s - loss: 0.181 - ETA: 0s - loss: 0.181 - ETA: 0s - loss: 0.181 - ETA: 0s - loss: 0.181 - ETA: 0s - loss: 0.181 - 1s 3ms/step - loss: 0.1808\n"
     ]
    }
   ],
   "source": [
    "# the tf.keras function API starts with defining placeholder tensors that represent model inputs\n",
    "x = tfkl.Input(img_shape)\n",
    "\n",
    "# we can then pass this placeholder through our models to specify the computation to get a prediction\n",
    "h = encoder(x)\n",
    "xhat = decoder(h)\n",
    "\n",
    "# finally we use the tfk.Model class instantiate the model by specifying the inputs and outputs\n",
    "# (note: this can also be lists, which is how you make more complex models with multiple inputs and/or outputs)\n",
    "autoencoder = tfk.Model(inputs=x, outputs=xhat)\n",
    "autoencoder.summary()\n",
    "\n",
    "# training happens as usual\n",
    "autoencoder.compile(\n",
    "    optimizer=tfk.optimizers.Adam(),\n",
    "    loss=tfk.losses.BinaryCrossentropy(),\n",
    ")\n",
    "\n",
    "results = autoencoder.fit(ds_train, steps_per_epoch=400, epochs=20)"
   ]
  },
  {
   "cell_type": "code",
   "execution_count": 21,
   "metadata": {
    "colab": {
     "base_uri": "https://localhost:8080/",
     "height": 1000
    },
    "id": "YbG1-lOI7JzM",
    "outputId": "e1ce9045-cb98-4901-cc39-f261ad241cdb"
   },
   "outputs": [
    {
     "data": {
      "image/png": "[encoded data removed]",
      "text/plain": [
       "<Figure size 432x288 with 2 Axes>"
      ]
     },
     "metadata": {
      "needs_background": "light"
     },
     "output_type": "display_data"
    },
    {
     "data": {
      "image/png": "[encoded data removed]",
      "text/plain": [
       "<Figure size 432x288 with 2 Axes>"
      ]
     },
     "metadata": {
      "needs_background": "light"
     },
     "output_type": "display_data"
    },
    {
     "data": {
      "image/png": "[encoded data removed]",
      "text/plain": [
       "<Figure size 432x288 with 2 Axes>"
      ]
     },
     "metadata": {
      "needs_background": "light"
     },
     "output_type": "display_data"
    },
    {
     "data": {
      "image/png": "[encoded data removed]",
      "text/plain": [
       "<Figure size 432x288 with 2 Axes>"
      ]
     },
     "metadata": {
      "needs_background": "light"
     },
     "output_type": "display_data"
    },
    {
     "data": {
      "image/png": "[encoded data removed]",
      "text/plain": [
       "<Figure size 432x288 with 2 Axes>"
      ]
     },
     "metadata": {
      "needs_background": "light"
     },
     "output_type": "display_data"
    },
    {
     "data": {
      "image/png": "[encoded data removed]",
      "text/plain": [
       "<Figure size 432x288 with 2 Axes>"
      ]
     },
     "metadata": {
      "needs_background": "light"
     },
     "output_type": "display_data"
    },
    {
     "data": {
      "image/png": "[encoded data removed]",
      "text/plain": [
       "<Figure size 432x288 with 2 Axes>"
      ]
     },
     "metadata": {
      "needs_background": "light"
     },
     "output_type": "display_data"
    },
    {
     "data": {
      "image/png": "[encoded data removed]",
      "text/plain": [
       "<Figure size 432x288 with 2 Axes>"
      ]
     },
     "metadata": {
      "needs_background": "light"
     },
     "output_type": "display_data"
    },
    {
     "data": {
      "image/png": "[encoded data removed]",
      "text/plain": [
       "<Figure size 432x288 with 2 Axes>"
      ]
     },
     "metadata": {
      "needs_background": "light"
     },
     "output_type": "display_data"
    },
    {
     "data": {
      "image/png": "[encoded data removed]",
      "text/plain": [
       "<Figure size 432x288 with 2 Axes>"
      ]
     },
     "metadata": {
      "needs_background": "light"
     },
     "output_type": "display_data"
    }
   ],
   "source": [
    "for i in range(10):\n",
    "    plt.subplot(1, 2, 1)\n",
    "    plt.imshow(imgs[i].numpy().squeeze(), cmap='bone')\n",
    "    plt.subplot(1, 2, 2, )\n",
    "    plt.imshow(autoencoder(imgs[i][tf.newaxis]).numpy().squeeze(), cmap='bone')\n",
    "    plt.show()"
   ]
  },
  {
   "cell_type": "code",
   "execution_count": 22,
   "metadata": {
    "id": "B7S9Aqn893jc"
   },
   "outputs": [],
   "source": [
    "# get 1000 data points for the scatter plot\n",
    "x, y = next(iter(data['test'].map(preprocess).batch(1000)))"
   ]
  },
  {
   "cell_type": "code",
   "execution_count": 23,
   "metadata": {
    "colab": {
     "base_uri": "https://localhost:8080/",
     "height": 431
    },
    "id": "0TGMBWOW-0kG",
    "outputId": "26c66b54-b4e1-46c1-dd8e-396aa1bf7ea9"
   },
   "outputs": [],
   "source": [
    "# your code here -- run the data through the encoder and scatter plot the results\n",
    "h =encoder(x).numpy()"
   ]
  },
  {
   "cell_type": "code",
   "execution_count": 24,
   "metadata": {},
   "outputs": [],
   "source": [
    "from sklearn.manifold import TSNE\n",
    "tsne = TSNE(n_components = 2).fit_transform(h)"
   ]
  },
  {
   "cell_type": "code",
   "execution_count": 25,
   "metadata": {},
   "outputs": [
    {
     "data": {
      "image/png": "[encoded data removed]",
      "text/plain": [
       "<Figure size 504x504 with 1 Axes>"
      ]
     },
     "metadata": {
      "needs_background": "light"
     },
     "output_type": "display_data"
    }
   ],
   "source": [
    "plt.figure(figsize = (7,7))\n",
    "for i in range(10):\n",
    "    indx = np.where(y==i)[0]\n",
    "    plt.scatter(tsne[indx,0],tsne[indx,1],s=10,label=str(i))\n",
    "plt.legend()\n",
    "plt.show()"
   ]
  }
 ],
 "metadata": {
  "accelerator": "GPU",
  "colab": {
   "collapsed_sections": [],
   "name": "autoencoders.ipynb",
   "provenance": []
  },
  "kernelspec": {
   "display_name": "Python 3",
   "language": "python",
   "name": "python3"
  },
  "language_info": {
   "codemirror_mode": {
    "name": "ipython",
    "version": 3
   },
   "file_extension": ".py",
   "mimetype": "text/x-python",
   "name": "python",
   "nbconvert_exporter": "python",
   "pygments_lexer": "ipython3",
   "version": "3.7.4"
  },
  "widgets": {
   "application/vnd.jupyter.widget-state+json": {
    "35b6da694ed74333b7ac16ef8928b9a6": {
     "model_module": "@jupyter-widgets/base",
     "model_name": "LayoutModel",
     "state": {
      "_model_module": "@jupyter-widgets/base",
      "_model_module_version": "1.2.0",
      "_model_name": "LayoutModel",
      "_view_count": null,
      "_view_module": "@jupyter-widgets/base",
      "_view_module_version": "1.2.0",
      "_view_name": "LayoutView",
      "align_content": null,
      "align_items": null,
      "align_self": null,
      "border": null,
      "bottom": null,
      "display": null,
      "flex": null,
      "flex_flow": null,
      "grid_area": null,
      "grid_auto_columns": null,
      "grid_auto_flow": null,
      "grid_auto_rows": null,
      "grid_column": null,
      "grid_gap": null,
      "grid_row": null,
      "grid_template_areas": null,
      "grid_template_columns": null,
      "grid_template_rows": null,
      "height": null,
      "justify_content": null,
      "justify_items": null,
      "left": null,
      "margin": null,
      "max_height": null,
      "max_width": null,
      "min_height": null,
      "min_width": null,
      "object_fit": null,
      "object_position": null,
      "order": null,
      "overflow": null,
      "overflow_x": null,
      "overflow_y": null,
      "padding": null,
      "right": null,
      "top": null,
      "visibility": null,
      "width": null
     }
    },
    "3dbbdfa73cf84aac9fef3d22ee0de2a3": {
     "model_module": "@jupyter-widgets/base",
     "model_name": "LayoutModel",
     "state": {
      "_model_module": "@jupyter-widgets/base",
      "_model_module_version": "1.2.0",
      "_model_name": "LayoutModel",
      "_view_count": null,
      "_view_module": "@jupyter-widgets/base",
      "_view_module_version": "1.2.0",
      "_view_name": "LayoutView",
      "align_content": null,
      "align_items": null,
      "align_self": null,
      "border": null,
      "bottom": null,
      "display": null,
      "flex": null,
      "flex_flow": null,
      "grid_area": null,
      "grid_auto_columns": null,
      "grid_auto_flow": null,
      "grid_auto_rows": null,
      "grid_column": null,
      "grid_gap": null,
      "grid_row": null,
      "grid_template_areas": null,
      "grid_template_columns": null,
      "grid_template_rows": null,
      "height": null,
      "justify_content": null,
      "justify_items": null,
      "left": null,
      "margin": null,
      "max_height": null,
      "max_width": null,
      "min_height": null,
      "min_width": null,
      "object_fit": null,
      "object_position": null,
      "order": null,
      "overflow": null,
      "overflow_x": null,
      "overflow_y": null,
      "padding": null,
      "right": null,
      "top": null,
      "visibility": null,
      "width": null
     }
    },
    "44fe5473bc604425a89d949b8b1fadca": {
     "model_module": "@jupyter-widgets/controls",
     "model_name": "HBoxModel",
     "state": {
      "_dom_classes": [],
      "_model_module": "@jupyter-widgets/controls",
      "_model_module_version": "1.5.0",
      "_model_name": "HBoxModel",
      "_view_count": null,
      "_view_module": "@jupyter-widgets/controls",
      "_view_module_version": "1.5.0",
      "_view_name": "HBoxView",
      "box_style": "",
      "children": [
       "IPY_MODEL_4566c85f8f8443acaa80591012be3a58",
       "IPY_MODEL_d0a35b7f92744288a841cb1acc92031f"
      ],
      "layout": "IPY_MODEL_35b6da694ed74333b7ac16ef8928b9a6"
     }
    },
    "4566c85f8f8443acaa80591012be3a58": {
     "model_module": "@jupyter-widgets/controls",
     "model_name": "FloatProgressModel",
     "state": {
      "_dom_classes": [],
      "_model_module": "@jupyter-widgets/controls",
      "_model_module_version": "1.5.0",
      "_model_name": "FloatProgressModel",
      "_view_count": null,
      "_view_module": "@jupyter-widgets/controls",
      "_view_module_version": "1.5.0",
      "_view_name": "ProgressView",
      "bar_style": "success",
      "description": "Dl Completed...: 100%",
      "description_tooltip": null,
      "layout": "IPY_MODEL_8b1429a6c67c4971a025459b59d4902a",
      "max": 4,
      "min": 0,
      "orientation": "horizontal",
      "style": "IPY_MODEL_ff8062801cd349138e84847e841ad017",
      "value": 4
     }
    },
    "65ba0aac2b034021b9c4bfdc9c51670d": {
     "model_module": "@jupyter-widgets/controls",
     "model_name": "DescriptionStyleModel",
     "state": {
      "_model_module": "@jupyter-widgets/controls",
      "_model_module_version": "1.5.0",
      "_model_name": "DescriptionStyleModel",
      "_view_count": null,
      "_view_module": "@jupyter-widgets/base",
      "_view_module_version": "1.2.0",
      "_view_name": "StyleView",
      "description_width": ""
     }
    },
    "8b1429a6c67c4971a025459b59d4902a": {
     "model_module": "@jupyter-widgets/base",
     "model_name": "LayoutModel",
     "state": {
      "_model_module": "@jupyter-widgets/base",
      "_model_module_version": "1.2.0",
      "_model_name": "LayoutModel",
      "_view_count": null,
      "_view_module": "@jupyter-widgets/base",
      "_view_module_version": "1.2.0",
      "_view_name": "LayoutView",
      "align_content": null,
      "align_items": null,
      "align_self": null,
      "border": null,
      "bottom": null,
      "display": null,
      "flex": null,
      "flex_flow": null,
      "grid_area": null,
      "grid_auto_columns": null,
      "grid_auto_flow": null,
      "grid_auto_rows": null,
      "grid_column": null,
      "grid_gap": null,
      "grid_row": null,
      "grid_template_areas": null,
      "grid_template_columns": null,
      "grid_template_rows": null,
      "height": null,
      "justify_content": null,
      "justify_items": null,
      "left": null,
      "margin": null,
      "max_height": null,
      "max_width": null,
      "min_height": null,
      "min_width": null,
      "object_fit": null,
      "object_position": null,
      "order": null,
      "overflow": null,
      "overflow_x": null,
      "overflow_y": null,
      "padding": null,
      "right": null,
      "top": null,
      "visibility": null,
      "width": null
     }
    },
    "d0a35b7f92744288a841cb1acc92031f": {
     "model_module": "@jupyter-widgets/controls",
     "model_name": "HTMLModel",
     "state": {
      "_dom_classes": [],
      "_model_module": "@jupyter-widgets/controls",
      "_model_module_version": "1.5.0",
      "_model_name": "HTMLModel",
      "_view_count": null,
      "_view_module": "@jupyter-widgets/controls",
      "_view_module_version": "1.5.0",
      "_view_name": "HTMLView",
      "description": "",
      "description_tooltip": null,
      "layout": "IPY_MODEL_3dbbdfa73cf84aac9fef3d22ee0de2a3",
      "placeholder": "​",
      "style": "IPY_MODEL_65ba0aac2b034021b9c4bfdc9c51670d",
      "value": " 4/4 [00:05&lt;00:00,  1.47s/ file]"
     }
    },
    "ff8062801cd349138e84847e841ad017": {
     "model_module": "@jupyter-widgets/controls",
     "model_name": "ProgressStyleModel",
     "state": {
      "_model_module": "@jupyter-widgets/controls",
      "_model_module_version": "1.5.0",
      "_model_name": "ProgressStyleModel",
      "_view_count": null,
      "_view_module": "@jupyter-widgets/base",
      "_view_module_version": "1.2.0",
      "_view_name": "StyleView",
      "bar_color": null,
      "description_width": "initial"
     }
    }
   }
  }
 },
 "nbformat": 4,
 "nbformat_minor": 1
}
